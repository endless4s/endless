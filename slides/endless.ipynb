{
 "cells": [
  {
   "cell_type": "markdown",
   "id": "e76ddabe",
   "metadata": {
    "slideshow": {
     "slide_type": "slide"
    }
   },
   "source": [
    "<center><img src=\"https://endless4s.github.io/logo.svg\" alt=\"Logo\" width=\"500\"/></center>"
   ]
  },
  {
   "cell_type": "markdown",
   "id": "c20c8849",
   "metadata": {
    "slideshow": {
     "slide_type": "slide"
    }
   },
   "source": [
    "# Endless"
   ]
  },
  {
   "cell_type": "markdown",
   "id": "9728967c",
   "metadata": {},
   "source": [
    "endless is a Scala library to describe event sourced entities using tagless-final algebras, running with built-in implementations for Akka."
   ]
  },
  {
   "cell_type": "code",
   "execution_count": 2,
   "id": "0021cd0b",
   "metadata": {
    "slideshow": {
     "slide_type": "slide"
    }
   },
   "outputs": [
    {
     "data": {
      "text/plain": [
       "defined \u001b[32mfunction\u001b[39m \u001b[36mfoobar\u001b[39m"
      ]
     },
     "execution_count": 2,
     "metadata": {},
     "output_type": "execute_result"
    }
   ],
   "source": [
    "def foobar(i: Int) = println(i)"
   ]
  },
  {
   "cell_type": "code",
   "execution_count": 3,
   "id": "f6795e80",
   "metadata": {},
   "outputs": [
    {
     "name": "stdout",
     "output_type": "stream",
     "text": [
      "1\n"
     ]
    }
   ],
   "source": [
    "foobar(1)"
   ]
  }
 ],
 "metadata": {
  "celltoolbar": "Slideshow",
  "kernelspec": {
   "display_name": "Scala",
   "language": "scala",
   "name": "scala"
  },
  "language_info": {
   "codemirror_mode": "text/x-scala",
   "file_extension": ".sc",
   "mimetype": "text/x-scala",
   "name": "scala",
   "nbconvert_exporter": "script",
   "version": "2.13.5"
  },
  "rise": {
   "theme": "endless"
  }
 },
 "nbformat": 4,
 "nbformat_minor": 5
}
